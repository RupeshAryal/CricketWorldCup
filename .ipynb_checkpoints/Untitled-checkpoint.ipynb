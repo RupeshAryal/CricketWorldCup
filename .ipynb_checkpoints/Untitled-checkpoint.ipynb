{
 "cells": [
  {
   "cell_type": "code",
   "execution_count": 58,
   "id": "e93c0779",
   "metadata": {},
   "outputs": [],
   "source": [
    "from selenium import webdriver\n",
    "from selenium.webdriver.common.by import By\n",
    "from selenium.webdriver.support.wait import WebDriverWait\n"
   ]
  },
  {
   "cell_type": "code",
   "execution_count": 61,
   "id": "df937623",
   "metadata": {},
   "outputs": [],
   "source": [
    "all_url = {\"2011\": \"https://www.espncricinfo.com/series/icc-cricket-world-cup-2010-11-381449/match-schedule-fixtures-and-results\",\n",
    "          \"2015\": \"https://www.espncricinfo.com/series/icc-cricket-world-cup-2014-15-509587/match-schedule-fixtures-and-results\",\n",
    "          \"2019\": \"https://www.espncricinfo.com/series/icc-cricket-world-cup-2019-1144415/match-schedule-fixtures-and-results\"\n",
    "          }"
   ]
  },
  {
   "cell_type": "code",
   "execution_count": null,
   "id": "93fc87aa",
   "metadata": {},
   "outputs": [],
   "source": []
  },
  {
   "cell_type": "code",
   "execution_count": 70,
   "id": "469dbaa9",
   "metadata": {},
   "outputs": [],
   "source": [
    "def get_links(year, url):\n",
    "    xpath = '//*[@id=\"main-container\"]/div[3]/div[2]/div/div[1]/div[1]/div'\n",
    "    with open(f\"{year}.txt\", 'w')as file:\n",
    "        driver = webdriver.Chrome()\n",
    "        driver.get(url)\n",
    "        driver.implicitly_wait(4)\n",
    "        all_matches = driver.find_element(By.XPATH, xpath).find_elements(By.CLASS_NAME, 'ds-p-4')\n",
    "\n",
    "\n",
    "        for match in all_matches:\n",
    "            teams = match.find_element(By.TAG_NAME, 'a')\n",
    "            teams = teams.get_attribute('href')\n",
    "            file.write(teams)\n",
    "            file.write(\"\\n\")\n",
    "    \n",
    "        driver.close()\n",
    "        "
   ]
  },
  {
   "cell_type": "code",
   "execution_count": 71,
   "id": "c7a72906",
   "metadata": {},
   "outputs": [],
   "source": [
    "for year, match in all_url.items():\n",
    "    get_links(year, match)"
   ]
  },
  {
   "cell_type": "code",
   "execution_count": null,
   "id": "e1dfa3ca",
   "metadata": {},
   "outputs": [],
   "source": []
  },
  {
   "cell_type": "code",
   "execution_count": 15,
   "id": "7ae75241",
   "metadata": {},
   "outputs": [
    {
     "name": "stdout",
     "output_type": "stream",
     "text": [
      "[]\n"
     ]
    }
   ],
   "source": []
  },
  {
   "cell_type": "code",
   "execution_count": null,
   "id": "8ed0e28a",
   "metadata": {},
   "outputs": [],
   "source": []
  }
 ],
 "metadata": {
  "kernelspec": {
   "display_name": "Python 3 (ipykernel)",
   "language": "python",
   "name": "python3"
  },
  "language_info": {
   "codemirror_mode": {
    "name": "ipython",
    "version": 3
   },
   "file_extension": ".py",
   "mimetype": "text/x-python",
   "name": "python",
   "nbconvert_exporter": "python",
   "pygments_lexer": "ipython3",
   "version": "3.10.9"
  }
 },
 "nbformat": 4,
 "nbformat_minor": 5
}
