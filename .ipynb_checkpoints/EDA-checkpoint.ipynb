{
 "cells": [
  {
   "cell_type": "code",
   "execution_count": 86,
   "id": "f72aa45e",
   "metadata": {},
   "outputs": [],
   "source": [
    "import pandas as pd\n",
    "import matplotlib.pyplot as plt\n",
    "import plotly.express as px\n",
    "import plotly.graph_objects as go\n",
    "\n"
   ]
  },
  {
   "cell_type": "code",
   "execution_count": 51,
   "id": "7064d229",
   "metadata": {},
   "outputs": [],
   "source": [
    "data = pd.read_csv(\"Data/2015.csv\", header=None)"
   ]
  },
  {
   "cell_type": "code",
   "execution_count": 52,
   "id": "fdaab4b2",
   "metadata": {},
   "outputs": [],
   "source": [
    "columns = ['Match', 'Venue', 'Attandance', 'Year']\n",
    "data.columns = columns"
   ]
  },
  {
   "cell_type": "code",
   "execution_count": 53,
   "id": "ba748c9f",
   "metadata": {},
   "outputs": [],
   "source": [
    "capacity = {'Adelaide': 53500,\n",
    "           'Brisbane': 42000,\n",
    "           'Canberra': 13550,\n",
    "           'Hobart': 20000,\n",
    "           'Melbourne': 100000,\n",
    "           'Perth': 24500,\n",
    "           'Sydney': 82000,\n",
    "           'Auckland': 50000,\n",
    "           'Christchurch': 20000,\n",
    "           'Dunedin': 6000,\n",
    "           'Hamilton': 12000,\n",
    "           'Napier': 22500,\n",
    "           'Nelson': 5000,\n",
    "           'Wellington': 37000}\n"
   ]
  },
  {
   "cell_type": "code",
   "execution_count": 54,
   "id": "1c47dd92",
   "metadata": {},
   "outputs": [],
   "source": [
    "#mapping the capacity to the venues and storing it as a column, we use the map() function for the operation\n",
    "data['capacity'] = data['Venue'].map(capacity)\n",
    "data.drop('Year', inplace=True, axis=1)"
   ]
  },
  {
   "cell_type": "code",
   "execution_count": 55,
   "id": "88c93c98",
   "metadata": {},
   "outputs": [],
   "source": [
    "#removing commas from the numbers:\n",
    "data['Attandance'] = data[\"Attandance\"].str.replace(',', '')"
   ]
  },
  {
   "cell_type": "code",
   "execution_count": 56,
   "id": "a0bb3638",
   "metadata": {},
   "outputs": [
    {
     "data": {
      "text/html": [
       "<div>\n",
       "<style scoped>\n",
       "    .dataframe tbody tr th:only-of-type {\n",
       "        vertical-align: middle;\n",
       "    }\n",
       "\n",
       "    .dataframe tbody tr th {\n",
       "        vertical-align: top;\n",
       "    }\n",
       "\n",
       "    .dataframe thead th {\n",
       "        text-align: right;\n",
       "    }\n",
       "</style>\n",
       "<table border=\"1\" class=\"dataframe\">\n",
       "  <thead>\n",
       "    <tr style=\"text-align: right;\">\n",
       "      <th></th>\n",
       "      <th>Match</th>\n",
       "      <th>Venue</th>\n",
       "      <th>Attandance</th>\n",
       "      <th>capacity</th>\n",
       "    </tr>\n",
       "  </thead>\n",
       "  <tbody>\n",
       "    <tr>\n",
       "      <th>0</th>\n",
       "      <td>NZ vs SL</td>\n",
       "      <td>Christchurch</td>\n",
       "      <td>17228</td>\n",
       "      <td>20000</td>\n",
       "    </tr>\n",
       "    <tr>\n",
       "      <th>1</th>\n",
       "      <td>AUS vs ENG</td>\n",
       "      <td>Melbourne</td>\n",
       "      <td>84336</td>\n",
       "      <td>100000</td>\n",
       "    </tr>\n",
       "    <tr>\n",
       "      <th>2</th>\n",
       "      <td>SA vs ZIM</td>\n",
       "      <td>Hamilton</td>\n",
       "      <td>8332</td>\n",
       "      <td>12000</td>\n",
       "    </tr>\n",
       "    <tr>\n",
       "      <th>3</th>\n",
       "      <td>IND vs PAK</td>\n",
       "      <td>Adelaide</td>\n",
       "      <td>41587</td>\n",
       "      <td>53500</td>\n",
       "    </tr>\n",
       "    <tr>\n",
       "      <th>4</th>\n",
       "      <td>WI vs IRE</td>\n",
       "      <td>Nelson</td>\n",
       "      <td>4143</td>\n",
       "      <td>5000</td>\n",
       "    </tr>\n",
       "    <tr>\n",
       "      <th>5</th>\n",
       "      <td>SCOT vs NZ</td>\n",
       "      <td>Dunedin</td>\n",
       "      <td>4684</td>\n",
       "      <td>6000</td>\n",
       "    </tr>\n",
       "    <tr>\n",
       "      <th>6</th>\n",
       "      <td>BAN vs AFG</td>\n",
       "      <td>Canberra</td>\n",
       "      <td>10972</td>\n",
       "      <td>13550</td>\n",
       "    </tr>\n",
       "    <tr>\n",
       "      <th>7</th>\n",
       "      <td>UAE vs ZIM</td>\n",
       "      <td>Nelson</td>\n",
       "      <td>2643</td>\n",
       "      <td>5000</td>\n",
       "    </tr>\n",
       "    <tr>\n",
       "      <th>8</th>\n",
       "      <td>ENG vs NZ</td>\n",
       "      <td>Wellington</td>\n",
       "      <td>30148</td>\n",
       "      <td>37000</td>\n",
       "    </tr>\n",
       "    <tr>\n",
       "      <th>9</th>\n",
       "      <td>WI vs PAK</td>\n",
       "      <td>Christchurch</td>\n",
       "      <td>14641</td>\n",
       "      <td>20000</td>\n",
       "    </tr>\n",
       "    <tr>\n",
       "      <th>10</th>\n",
       "      <td>AUS vs BAN</td>\n",
       "      <td>Brisbane</td>\n",
       "      <td>0</td>\n",
       "      <td>42000</td>\n",
       "    </tr>\n",
       "    <tr>\n",
       "      <th>11</th>\n",
       "      <td>AFG vs SL</td>\n",
       "      <td>Dunedin</td>\n",
       "      <td>2711</td>\n",
       "      <td>6000</td>\n",
       "    </tr>\n",
       "    <tr>\n",
       "      <th>12</th>\n",
       "      <td>IND vs SA</td>\n",
       "      <td>Melbourne</td>\n",
       "      <td>86876</td>\n",
       "      <td>100000</td>\n",
       "    </tr>\n",
       "    <tr>\n",
       "      <th>13</th>\n",
       "      <td>ENG vs SCOT</td>\n",
       "      <td>Christchurch</td>\n",
       "      <td>12388</td>\n",
       "      <td>20000</td>\n",
       "    </tr>\n",
       "    <tr>\n",
       "      <th>14</th>\n",
       "      <td>WI vs ZIM</td>\n",
       "      <td>Canberra</td>\n",
       "      <td>5544</td>\n",
       "      <td>13550</td>\n",
       "    </tr>\n",
       "    <tr>\n",
       "      <th>15</th>\n",
       "      <td>UAE vs IRE</td>\n",
       "      <td>Brisbane</td>\n",
       "      <td>5249</td>\n",
       "      <td>42000</td>\n",
       "    </tr>\n",
       "    <tr>\n",
       "      <th>16</th>\n",
       "      <td>SCOT vs AFG</td>\n",
       "      <td>Dunedin</td>\n",
       "      <td>3229</td>\n",
       "      <td>6000</td>\n",
       "    </tr>\n",
       "    <tr>\n",
       "      <th>17</th>\n",
       "      <td>SL vs BAN</td>\n",
       "      <td>Melbourne</td>\n",
       "      <td>30012</td>\n",
       "      <td>100000</td>\n",
       "    </tr>\n",
       "    <tr>\n",
       "      <th>18</th>\n",
       "      <td>SA vs WI</td>\n",
       "      <td>Sydney</td>\n",
       "      <td>23612</td>\n",
       "      <td>82000</td>\n",
       "    </tr>\n",
       "    <tr>\n",
       "      <th>19</th>\n",
       "      <td>AUS vs NZ</td>\n",
       "      <td>Auckland</td>\n",
       "      <td>40053</td>\n",
       "      <td>50000</td>\n",
       "    </tr>\n",
       "    <tr>\n",
       "      <th>20</th>\n",
       "      <td>UAE vs IND</td>\n",
       "      <td>Perth</td>\n",
       "      <td>8718</td>\n",
       "      <td>24500</td>\n",
       "    </tr>\n",
       "    <tr>\n",
       "      <th>21</th>\n",
       "      <td>ENG vs SL</td>\n",
       "      <td>Wellington</td>\n",
       "      <td>18503</td>\n",
       "      <td>37000</td>\n",
       "    </tr>\n",
       "    <tr>\n",
       "      <th>22</th>\n",
       "      <td>PAK vs ZIM</td>\n",
       "      <td>Brisbane</td>\n",
       "      <td>9847</td>\n",
       "      <td>42000</td>\n",
       "    </tr>\n",
       "    <tr>\n",
       "      <th>23</th>\n",
       "      <td>SA vs IRE</td>\n",
       "      <td>Canberra</td>\n",
       "      <td>8831</td>\n",
       "      <td>13550</td>\n",
       "    </tr>\n",
       "    <tr>\n",
       "      <th>24</th>\n",
       "      <td>PAK vs UAE</td>\n",
       "      <td>Napier</td>\n",
       "      <td>2850</td>\n",
       "      <td>22500</td>\n",
       "    </tr>\n",
       "    <tr>\n",
       "      <th>25</th>\n",
       "      <td>AUS vs AFG</td>\n",
       "      <td>Perth</td>\n",
       "      <td>12710</td>\n",
       "      <td>24500</td>\n",
       "    </tr>\n",
       "    <tr>\n",
       "      <th>26</th>\n",
       "      <td>SCOT vs BAN</td>\n",
       "      <td>Nelson</td>\n",
       "      <td>3491</td>\n",
       "      <td>5000</td>\n",
       "    </tr>\n",
       "    <tr>\n",
       "      <th>27</th>\n",
       "      <td>WI vs IND</td>\n",
       "      <td>Perth</td>\n",
       "      <td>17557</td>\n",
       "      <td>24500</td>\n",
       "    </tr>\n",
       "    <tr>\n",
       "      <th>28</th>\n",
       "      <td>PAK vs SA</td>\n",
       "      <td>Auckland</td>\n",
       "      <td>22713</td>\n",
       "      <td>50000</td>\n",
       "    </tr>\n",
       "    <tr>\n",
       "      <th>29</th>\n",
       "      <td>IRE vs ZIM</td>\n",
       "      <td>Hobart</td>\n",
       "      <td>4048</td>\n",
       "      <td>20000</td>\n",
       "    </tr>\n",
       "    <tr>\n",
       "      <th>30</th>\n",
       "      <td>AFG vs NZ</td>\n",
       "      <td>Napier</td>\n",
       "      <td>10022</td>\n",
       "      <td>22500</td>\n",
       "    </tr>\n",
       "    <tr>\n",
       "      <th>31</th>\n",
       "      <td>AUS vs SL</td>\n",
       "      <td>Sydney</td>\n",
       "      <td>39951</td>\n",
       "      <td>82000</td>\n",
       "    </tr>\n",
       "    <tr>\n",
       "      <th>32</th>\n",
       "      <td>BAN vs ENG</td>\n",
       "      <td>Adelaide</td>\n",
       "      <td>11963</td>\n",
       "      <td>53500</td>\n",
       "    </tr>\n",
       "    <tr>\n",
       "      <th>33</th>\n",
       "      <td>IRE vs IND</td>\n",
       "      <td>Hamilton</td>\n",
       "      <td>10192</td>\n",
       "      <td>12000</td>\n",
       "    </tr>\n",
       "    <tr>\n",
       "      <th>34</th>\n",
       "      <td>SL vs SCOT</td>\n",
       "      <td>Hobart</td>\n",
       "      <td>3466</td>\n",
       "      <td>20000</td>\n",
       "    </tr>\n",
       "    <tr>\n",
       "      <th>35</th>\n",
       "      <td>SA vs UAE</td>\n",
       "      <td>Wellington</td>\n",
       "      <td>4901</td>\n",
       "      <td>37000</td>\n",
       "    </tr>\n",
       "    <tr>\n",
       "      <th>36</th>\n",
       "      <td>BAN vs NZ</td>\n",
       "      <td>Hamilton</td>\n",
       "      <td>10347</td>\n",
       "      <td>12000</td>\n",
       "    </tr>\n",
       "    <tr>\n",
       "      <th>37</th>\n",
       "      <td>AFG vs ENG</td>\n",
       "      <td>Sydney</td>\n",
       "      <td>9203</td>\n",
       "      <td>82000</td>\n",
       "    </tr>\n",
       "    <tr>\n",
       "      <th>38</th>\n",
       "      <td>ZIM vs IND</td>\n",
       "      <td>Auckland</td>\n",
       "      <td>30076</td>\n",
       "      <td>50000</td>\n",
       "    </tr>\n",
       "    <tr>\n",
       "      <th>39</th>\n",
       "      <td>SCOT vs AUS</td>\n",
       "      <td>Hobart</td>\n",
       "      <td>12044</td>\n",
       "      <td>20000</td>\n",
       "    </tr>\n",
       "    <tr>\n",
       "      <th>40</th>\n",
       "      <td>UAE vs WI</td>\n",
       "      <td>Napier</td>\n",
       "      <td>1221</td>\n",
       "      <td>22500</td>\n",
       "    </tr>\n",
       "    <tr>\n",
       "      <th>41</th>\n",
       "      <td>IRE vs PAK</td>\n",
       "      <td>Adelaide</td>\n",
       "      <td>9891</td>\n",
       "      <td>53500</td>\n",
       "    </tr>\n",
       "    <tr>\n",
       "      <th>42</th>\n",
       "      <td>SL vs SA</td>\n",
       "      <td>Sydney</td>\n",
       "      <td>27259</td>\n",
       "      <td>82000</td>\n",
       "    </tr>\n",
       "    <tr>\n",
       "      <th>43</th>\n",
       "      <td>IND vs BAN</td>\n",
       "      <td>Melbourne</td>\n",
       "      <td>51552</td>\n",
       "      <td>100000</td>\n",
       "    </tr>\n",
       "    <tr>\n",
       "      <th>44</th>\n",
       "      <td>PAK vs AUS</td>\n",
       "      <td>Adelaide</td>\n",
       "      <td>35516</td>\n",
       "      <td>53500</td>\n",
       "    </tr>\n",
       "    <tr>\n",
       "      <th>45</th>\n",
       "      <td>NZ vs WI</td>\n",
       "      <td>Wellington</td>\n",
       "      <td>30268</td>\n",
       "      <td>37000</td>\n",
       "    </tr>\n",
       "    <tr>\n",
       "      <th>46</th>\n",
       "      <td>SA vs NZ</td>\n",
       "      <td>Auckland</td>\n",
       "      <td>41279</td>\n",
       "      <td>50000</td>\n",
       "    </tr>\n",
       "    <tr>\n",
       "      <th>47</th>\n",
       "      <td>AUS vs IND</td>\n",
       "      <td>Sydney</td>\n",
       "      <td>42330</td>\n",
       "      <td>82000</td>\n",
       "    </tr>\n",
       "    <tr>\n",
       "      <th>48</th>\n",
       "      <td>NZ vs AUS</td>\n",
       "      <td>Melbourne</td>\n",
       "      <td>93013</td>\n",
       "      <td>100000</td>\n",
       "    </tr>\n",
       "  </tbody>\n",
       "</table>\n",
       "</div>"
      ],
      "text/plain": [
       "          Match         Venue Attandance  capacity\n",
       "0      NZ vs SL  Christchurch      17228     20000\n",
       "1    AUS vs ENG     Melbourne      84336    100000\n",
       "2     SA vs ZIM      Hamilton       8332     12000\n",
       "3    IND vs PAK      Adelaide      41587     53500\n",
       "4     WI vs IRE        Nelson       4143      5000\n",
       "5    SCOT vs NZ       Dunedin       4684      6000\n",
       "6    BAN vs AFG      Canberra      10972     13550\n",
       "7    UAE vs ZIM        Nelson       2643      5000\n",
       "8     ENG vs NZ    Wellington      30148     37000\n",
       "9     WI vs PAK  Christchurch      14641     20000\n",
       "10   AUS vs BAN      Brisbane          0     42000\n",
       "11    AFG vs SL       Dunedin       2711      6000\n",
       "12    IND vs SA     Melbourne      86876    100000\n",
       "13  ENG vs SCOT  Christchurch      12388     20000\n",
       "14    WI vs ZIM      Canberra       5544     13550\n",
       "15   UAE vs IRE      Brisbane       5249     42000\n",
       "16  SCOT vs AFG       Dunedin       3229      6000\n",
       "17    SL vs BAN     Melbourne      30012    100000\n",
       "18     SA vs WI        Sydney      23612     82000\n",
       "19    AUS vs NZ      Auckland      40053     50000\n",
       "20   UAE vs IND         Perth       8718     24500\n",
       "21    ENG vs SL    Wellington      18503     37000\n",
       "22   PAK vs ZIM      Brisbane       9847     42000\n",
       "23    SA vs IRE      Canberra       8831     13550\n",
       "24   PAK vs UAE        Napier       2850     22500\n",
       "25   AUS vs AFG         Perth      12710     24500\n",
       "26  SCOT vs BAN        Nelson       3491      5000\n",
       "27    WI vs IND         Perth      17557     24500\n",
       "28    PAK vs SA      Auckland      22713     50000\n",
       "29   IRE vs ZIM        Hobart       4048     20000\n",
       "30    AFG vs NZ        Napier      10022     22500\n",
       "31    AUS vs SL        Sydney      39951     82000\n",
       "32   BAN vs ENG      Adelaide      11963     53500\n",
       "33   IRE vs IND      Hamilton      10192     12000\n",
       "34   SL vs SCOT        Hobart       3466     20000\n",
       "35    SA vs UAE    Wellington       4901     37000\n",
       "36    BAN vs NZ      Hamilton      10347     12000\n",
       "37   AFG vs ENG        Sydney       9203     82000\n",
       "38   ZIM vs IND      Auckland      30076     50000\n",
       "39  SCOT vs AUS        Hobart      12044     20000\n",
       "40    UAE vs WI        Napier       1221     22500\n",
       "41   IRE vs PAK      Adelaide       9891     53500\n",
       "42     SL vs SA        Sydney      27259     82000\n",
       "43   IND vs BAN     Melbourne      51552    100000\n",
       "44   PAK vs AUS      Adelaide      35516     53500\n",
       "45     NZ vs WI    Wellington      30268     37000\n",
       "46     SA vs NZ      Auckland      41279     50000\n",
       "47   AUS vs IND        Sydney      42330     82000\n",
       "48    NZ vs AUS     Melbourne      93013    100000"
      ]
     },
     "execution_count": 56,
     "metadata": {},
     "output_type": "execute_result"
    }
   ],
   "source": [
    "data"
   ]
  },
  {
   "cell_type": "code",
   "execution_count": 57,
   "id": "ea36665c",
   "metadata": {},
   "outputs": [],
   "source": [
    "#lets add the attandance percentage, it is given by total attandance divided by capacity \n",
    "\n",
    "#we need to first convert the date from string to the numeric data type\n",
    "data['Attandance'] = pd.to_numeric(data['Attandance'])\n",
    "\n",
    "data['Percentage'] = data['Attandance'] / data['capacity'] * 100"
   ]
  },
  {
   "cell_type": "markdown",
   "id": "053f8053",
   "metadata": {},
   "source": [
    "## Visualizations"
   ]
  },
  {
   "cell_type": "code",
   "execution_count": 92,
   "id": "1c6f47d4",
   "metadata": {},
   "outputs": [
    {
     "data": {
      "application/vnd.plotly.v1+json": {
       "config": {
        "plotlyServerURL": "https://plot.ly"
       },
       "data": [
        {
         "name": "Attandance",
         "orientation": "h",
         "type": "bar",
         "x": [
          17228,
          84336,
          8332,
          41587,
          4143,
          4684,
          10972,
          2643,
          30148,
          14641,
          0,
          2711,
          86876,
          12388,
          5544,
          5249,
          3229,
          30012,
          23612,
          40053,
          8718,
          18503,
          9847,
          8831,
          2850,
          12710,
          3491,
          17557,
          22713,
          4048,
          10022,
          39951,
          11963,
          10192,
          3466,
          4901,
          10347,
          9203,
          30076,
          12044,
          1221,
          9891,
          27259,
          51552,
          35516,
          30268,
          41279,
          42330,
          93013
         ],
         "y": [
          "NZ vs SL",
          "AUS vs ENG",
          "SA vs ZIM",
          "IND vs PAK",
          "WI vs IRE",
          "SCOT vs NZ",
          "BAN vs AFG",
          "UAE vs ZIM",
          "ENG vs NZ",
          "WI vs PAK",
          "AUS vs BAN",
          "AFG vs SL",
          "IND vs SA",
          "ENG vs SCOT",
          "WI vs ZIM",
          "UAE vs IRE",
          "SCOT vs AFG",
          "SL vs BAN",
          "SA vs WI",
          "AUS vs NZ",
          "UAE vs IND",
          "ENG vs SL",
          "PAK vs ZIM",
          "SA vs IRE",
          "PAK vs UAE",
          "AUS vs AFG",
          "SCOT vs BAN",
          "WI vs IND",
          "PAK vs SA",
          "IRE vs ZIM",
          "AFG vs NZ",
          "AUS vs SL",
          "BAN vs ENG",
          "IRE vs IND",
          "SL vs SCOT",
          "SA vs UAE",
          "BAN vs NZ",
          "AFG vs ENG",
          "ZIM vs IND",
          "SCOT vs AUS",
          "UAE vs WI",
          "IRE vs PAK",
          "SL vs SA",
          "IND vs BAN",
          "PAK vs AUS",
          "NZ vs WI",
          "SA vs NZ",
          "AUS vs IND",
          "NZ vs AUS"
         ]
        },
        {
         "name": "capacity",
         "orientation": "h",
         "type": "bar",
         "x": [
          20000,
          100000,
          12000,
          53500,
          5000,
          6000,
          13550,
          5000,
          37000,
          20000,
          42000,
          6000,
          100000,
          20000,
          13550,
          42000,
          6000,
          100000,
          82000,
          50000,
          24500,
          37000,
          42000,
          13550,
          22500,
          24500,
          5000,
          24500,
          50000,
          20000,
          22500,
          82000,
          53500,
          12000,
          20000,
          37000,
          12000,
          82000,
          50000,
          20000,
          22500,
          53500,
          82000,
          100000,
          53500,
          37000,
          50000,
          82000,
          100000
         ],
         "y": [
          "NZ vs SL",
          "AUS vs ENG",
          "SA vs ZIM",
          "IND vs PAK",
          "WI vs IRE",
          "SCOT vs NZ",
          "BAN vs AFG",
          "UAE vs ZIM",
          "ENG vs NZ",
          "WI vs PAK",
          "AUS vs BAN",
          "AFG vs SL",
          "IND vs SA",
          "ENG vs SCOT",
          "WI vs ZIM",
          "UAE vs IRE",
          "SCOT vs AFG",
          "SL vs BAN",
          "SA vs WI",
          "AUS vs NZ",
          "UAE vs IND",
          "ENG vs SL",
          "PAK vs ZIM",
          "SA vs IRE",
          "PAK vs UAE",
          "AUS vs AFG",
          "SCOT vs BAN",
          "WI vs IND",
          "PAK vs SA",
          "IRE vs ZIM",
          "AFG vs NZ",
          "AUS vs SL",
          "BAN vs ENG",
          "IRE vs IND",
          "SL vs SCOT",
          "SA vs UAE",
          "BAN vs NZ",
          "AFG vs ENG",
          "ZIM vs IND",
          "SCOT vs AUS",
          "UAE vs WI",
          "IRE vs PAK",
          "SL vs SA",
          "IND vs BAN",
          "PAK vs AUS",
          "NZ vs WI",
          "SA vs NZ",
          "AUS vs IND",
          "NZ vs AUS"
         ]
        }
       ],
       "layout": {
        "barmode": "stack",
        "height": 1200,
        "template": {
         "data": {
          "bar": [
           {
            "error_x": {
             "color": "#2a3f5f"
            },
            "error_y": {
             "color": "#2a3f5f"
            },
            "marker": {
             "line": {
              "color": "#E5ECF6",
              "width": 0.5
             },
             "pattern": {
              "fillmode": "overlay",
              "size": 10,
              "solidity": 0.2
             }
            },
            "type": "bar"
           }
          ],
          "barpolar": [
           {
            "marker": {
             "line": {
              "color": "#E5ECF6",
              "width": 0.5
             },
             "pattern": {
              "fillmode": "overlay",
              "size": 10,
              "solidity": 0.2
             }
            },
            "type": "barpolar"
           }
          ],
          "carpet": [
           {
            "aaxis": {
             "endlinecolor": "#2a3f5f",
             "gridcolor": "white",
             "linecolor": "white",
             "minorgridcolor": "white",
             "startlinecolor": "#2a3f5f"
            },
            "baxis": {
             "endlinecolor": "#2a3f5f",
             "gridcolor": "white",
             "linecolor": "white",
             "minorgridcolor": "white",
             "startlinecolor": "#2a3f5f"
            },
            "type": "carpet"
           }
          ],
          "choropleth": [
           {
            "colorbar": {
             "outlinewidth": 0,
             "ticks": ""
            },
            "type": "choropleth"
           }
          ],
          "contour": [
           {
            "colorbar": {
             "outlinewidth": 0,
             "ticks": ""
            },
            "colorscale": [
             [
              0,
              "#0d0887"
             ],
             [
              0.1111111111111111,
              "#46039f"
             ],
             [
              0.2222222222222222,
              "#7201a8"
             ],
             [
              0.3333333333333333,
              "#9c179e"
             ],
             [
              0.4444444444444444,
              "#bd3786"
             ],
             [
              0.5555555555555556,
              "#d8576b"
             ],
             [
              0.6666666666666666,
              "#ed7953"
             ],
             [
              0.7777777777777778,
              "#fb9f3a"
             ],
             [
              0.8888888888888888,
              "#fdca26"
             ],
             [
              1,
              "#f0f921"
             ]
            ],
            "type": "contour"
           }
          ],
          "contourcarpet": [
           {
            "colorbar": {
             "outlinewidth": 0,
             "ticks": ""
            },
            "type": "contourcarpet"
           }
          ],
          "heatmap": [
           {
            "colorbar": {
             "outlinewidth": 0,
             "ticks": ""
            },
            "colorscale": [
             [
              0,
              "#0d0887"
             ],
             [
              0.1111111111111111,
              "#46039f"
             ],
             [
              0.2222222222222222,
              "#7201a8"
             ],
             [
              0.3333333333333333,
              "#9c179e"
             ],
             [
              0.4444444444444444,
              "#bd3786"
             ],
             [
              0.5555555555555556,
              "#d8576b"
             ],
             [
              0.6666666666666666,
              "#ed7953"
             ],
             [
              0.7777777777777778,
              "#fb9f3a"
             ],
             [
              0.8888888888888888,
              "#fdca26"
             ],
             [
              1,
              "#f0f921"
             ]
            ],
            "type": "heatmap"
           }
          ],
          "heatmapgl": [
           {
            "colorbar": {
             "outlinewidth": 0,
             "ticks": ""
            },
            "colorscale": [
             [
              0,
              "#0d0887"
             ],
             [
              0.1111111111111111,
              "#46039f"
             ],
             [
              0.2222222222222222,
              "#7201a8"
             ],
             [
              0.3333333333333333,
              "#9c179e"
             ],
             [
              0.4444444444444444,
              "#bd3786"
             ],
             [
              0.5555555555555556,
              "#d8576b"
             ],
             [
              0.6666666666666666,
              "#ed7953"
             ],
             [
              0.7777777777777778,
              "#fb9f3a"
             ],
             [
              0.8888888888888888,
              "#fdca26"
             ],
             [
              1,
              "#f0f921"
             ]
            ],
            "type": "heatmapgl"
           }
          ],
          "histogram": [
           {
            "marker": {
             "pattern": {
              "fillmode": "overlay",
              "size": 10,
              "solidity": 0.2
             }
            },
            "type": "histogram"
           }
          ],
          "histogram2d": [
           {
            "colorbar": {
             "outlinewidth": 0,
             "ticks": ""
            },
            "colorscale": [
             [
              0,
              "#0d0887"
             ],
             [
              0.1111111111111111,
              "#46039f"
             ],
             [
              0.2222222222222222,
              "#7201a8"
             ],
             [
              0.3333333333333333,
              "#9c179e"
             ],
             [
              0.4444444444444444,
              "#bd3786"
             ],
             [
              0.5555555555555556,
              "#d8576b"
             ],
             [
              0.6666666666666666,
              "#ed7953"
             ],
             [
              0.7777777777777778,
              "#fb9f3a"
             ],
             [
              0.8888888888888888,
              "#fdca26"
             ],
             [
              1,
              "#f0f921"
             ]
            ],
            "type": "histogram2d"
           }
          ],
          "histogram2dcontour": [
           {
            "colorbar": {
             "outlinewidth": 0,
             "ticks": ""
            },
            "colorscale": [
             [
              0,
              "#0d0887"
             ],
             [
              0.1111111111111111,
              "#46039f"
             ],
             [
              0.2222222222222222,
              "#7201a8"
             ],
             [
              0.3333333333333333,
              "#9c179e"
             ],
             [
              0.4444444444444444,
              "#bd3786"
             ],
             [
              0.5555555555555556,
              "#d8576b"
             ],
             [
              0.6666666666666666,
              "#ed7953"
             ],
             [
              0.7777777777777778,
              "#fb9f3a"
             ],
             [
              0.8888888888888888,
              "#fdca26"
             ],
             [
              1,
              "#f0f921"
             ]
            ],
            "type": "histogram2dcontour"
           }
          ],
          "mesh3d": [
           {
            "colorbar": {
             "outlinewidth": 0,
             "ticks": ""
            },
            "type": "mesh3d"
           }
          ],
          "parcoords": [
           {
            "line": {
             "colorbar": {
              "outlinewidth": 0,
              "ticks": ""
             }
            },
            "type": "parcoords"
           }
          ],
          "pie": [
           {
            "automargin": true,
            "type": "pie"
           }
          ],
          "scatter": [
           {
            "fillpattern": {
             "fillmode": "overlay",
             "size": 10,
             "solidity": 0.2
            },
            "type": "scatter"
           }
          ],
          "scatter3d": [
           {
            "line": {
             "colorbar": {
              "outlinewidth": 0,
              "ticks": ""
             }
            },
            "marker": {
             "colorbar": {
              "outlinewidth": 0,
              "ticks": ""
             }
            },
            "type": "scatter3d"
           }
          ],
          "scattercarpet": [
           {
            "marker": {
             "colorbar": {
              "outlinewidth": 0,
              "ticks": ""
             }
            },
            "type": "scattercarpet"
           }
          ],
          "scattergeo": [
           {
            "marker": {
             "colorbar": {
              "outlinewidth": 0,
              "ticks": ""
             }
            },
            "type": "scattergeo"
           }
          ],
          "scattergl": [
           {
            "marker": {
             "colorbar": {
              "outlinewidth": 0,
              "ticks": ""
             }
            },
            "type": "scattergl"
           }
          ],
          "scattermapbox": [
           {
            "marker": {
             "colorbar": {
              "outlinewidth": 0,
              "ticks": ""
             }
            },
            "type": "scattermapbox"
           }
          ],
          "scatterpolar": [
           {
            "marker": {
             "colorbar": {
              "outlinewidth": 0,
              "ticks": ""
             }
            },
            "type": "scatterpolar"
           }
          ],
          "scatterpolargl": [
           {
            "marker": {
             "colorbar": {
              "outlinewidth": 0,
              "ticks": ""
             }
            },
            "type": "scatterpolargl"
           }
          ],
          "scatterternary": [
           {
            "marker": {
             "colorbar": {
              "outlinewidth": 0,
              "ticks": ""
             }
            },
            "type": "scatterternary"
           }
          ],
          "surface": [
           {
            "colorbar": {
             "outlinewidth": 0,
             "ticks": ""
            },
            "colorscale": [
             [
              0,
              "#0d0887"
             ],
             [
              0.1111111111111111,
              "#46039f"
             ],
             [
              0.2222222222222222,
              "#7201a8"
             ],
             [
              0.3333333333333333,
              "#9c179e"
             ],
             [
              0.4444444444444444,
              "#bd3786"
             ],
             [
              0.5555555555555556,
              "#d8576b"
             ],
             [
              0.6666666666666666,
              "#ed7953"
             ],
             [
              0.7777777777777778,
              "#fb9f3a"
             ],
             [
              0.8888888888888888,
              "#fdca26"
             ],
             [
              1,
              "#f0f921"
             ]
            ],
            "type": "surface"
           }
          ],
          "table": [
           {
            "cells": {
             "fill": {
              "color": "#EBF0F8"
             },
             "line": {
              "color": "white"
             }
            },
            "header": {
             "fill": {
              "color": "#C8D4E3"
             },
             "line": {
              "color": "white"
             }
            },
            "type": "table"
           }
          ]
         },
         "layout": {
          "annotationdefaults": {
           "arrowcolor": "#2a3f5f",
           "arrowhead": 0,
           "arrowwidth": 1
          },
          "autotypenumbers": "strict",
          "coloraxis": {
           "colorbar": {
            "outlinewidth": 0,
            "ticks": ""
           }
          },
          "colorscale": {
           "diverging": [
            [
             0,
             "#8e0152"
            ],
            [
             0.1,
             "#c51b7d"
            ],
            [
             0.2,
             "#de77ae"
            ],
            [
             0.3,
             "#f1b6da"
            ],
            [
             0.4,
             "#fde0ef"
            ],
            [
             0.5,
             "#f7f7f7"
            ],
            [
             0.6,
             "#e6f5d0"
            ],
            [
             0.7,
             "#b8e186"
            ],
            [
             0.8,
             "#7fbc41"
            ],
            [
             0.9,
             "#4d9221"
            ],
            [
             1,
             "#276419"
            ]
           ],
           "sequential": [
            [
             0,
             "#0d0887"
            ],
            [
             0.1111111111111111,
             "#46039f"
            ],
            [
             0.2222222222222222,
             "#7201a8"
            ],
            [
             0.3333333333333333,
             "#9c179e"
            ],
            [
             0.4444444444444444,
             "#bd3786"
            ],
            [
             0.5555555555555556,
             "#d8576b"
            ],
            [
             0.6666666666666666,
             "#ed7953"
            ],
            [
             0.7777777777777778,
             "#fb9f3a"
            ],
            [
             0.8888888888888888,
             "#fdca26"
            ],
            [
             1,
             "#f0f921"
            ]
           ],
           "sequentialminus": [
            [
             0,
             "#0d0887"
            ],
            [
             0.1111111111111111,
             "#46039f"
            ],
            [
             0.2222222222222222,
             "#7201a8"
            ],
            [
             0.3333333333333333,
             "#9c179e"
            ],
            [
             0.4444444444444444,
             "#bd3786"
            ],
            [
             0.5555555555555556,
             "#d8576b"
            ],
            [
             0.6666666666666666,
             "#ed7953"
            ],
            [
             0.7777777777777778,
             "#fb9f3a"
            ],
            [
             0.8888888888888888,
             "#fdca26"
            ],
            [
             1,
             "#f0f921"
            ]
           ]
          },
          "colorway": [
           "#636efa",
           "#EF553B",
           "#00cc96",
           "#ab63fa",
           "#FFA15A",
           "#19d3f3",
           "#FF6692",
           "#B6E880",
           "#FF97FF",
           "#FECB52"
          ],
          "font": {
           "color": "#2a3f5f"
          },
          "geo": {
           "bgcolor": "white",
           "lakecolor": "white",
           "landcolor": "#E5ECF6",
           "showlakes": true,
           "showland": true,
           "subunitcolor": "white"
          },
          "hoverlabel": {
           "align": "left"
          },
          "hovermode": "closest",
          "mapbox": {
           "style": "light"
          },
          "paper_bgcolor": "white",
          "plot_bgcolor": "#E5ECF6",
          "polar": {
           "angularaxis": {
            "gridcolor": "white",
            "linecolor": "white",
            "ticks": ""
           },
           "bgcolor": "#E5ECF6",
           "radialaxis": {
            "gridcolor": "white",
            "linecolor": "white",
            "ticks": ""
           }
          },
          "scene": {
           "xaxis": {
            "backgroundcolor": "#E5ECF6",
            "gridcolor": "white",
            "gridwidth": 2,
            "linecolor": "white",
            "showbackground": true,
            "ticks": "",
            "zerolinecolor": "white"
           },
           "yaxis": {
            "backgroundcolor": "#E5ECF6",
            "gridcolor": "white",
            "gridwidth": 2,
            "linecolor": "white",
            "showbackground": true,
            "ticks": "",
            "zerolinecolor": "white"
           },
           "zaxis": {
            "backgroundcolor": "#E5ECF6",
            "gridcolor": "white",
            "gridwidth": 2,
            "linecolor": "white",
            "showbackground": true,
            "ticks": "",
            "zerolinecolor": "white"
           }
          },
          "shapedefaults": {
           "line": {
            "color": "#2a3f5f"
           }
          },
          "ternary": {
           "aaxis": {
            "gridcolor": "white",
            "linecolor": "white",
            "ticks": ""
           },
           "baxis": {
            "gridcolor": "white",
            "linecolor": "white",
            "ticks": ""
           },
           "bgcolor": "#E5ECF6",
           "caxis": {
            "gridcolor": "white",
            "linecolor": "white",
            "ticks": ""
           }
          },
          "title": {
           "x": 0.05
          },
          "xaxis": {
           "automargin": true,
           "gridcolor": "white",
           "linecolor": "white",
           "ticks": "",
           "title": {
            "standoff": 15
           },
           "zerolinecolor": "white",
           "zerolinewidth": 2
          },
          "yaxis": {
           "automargin": true,
           "gridcolor": "white",
           "linecolor": "white",
           "ticks": "",
           "title": {
            "standoff": 15
           },
           "zerolinecolor": "white",
           "zerolinewidth": 2
          }
         }
        }
       }
      },
      "text/html": [
       "<div>                            <div id=\"17966b0f-9315-42c8-b9ba-50e8b883bce0\" class=\"plotly-graph-div\" style=\"height:1200px; width:100%;\"></div>            <script type=\"text/javascript\">                require([\"plotly\"], function(Plotly) {                    window.PLOTLYENV=window.PLOTLYENV || {};                                    if (document.getElementById(\"17966b0f-9315-42c8-b9ba-50e8b883bce0\")) {                    Plotly.newPlot(                        \"17966b0f-9315-42c8-b9ba-50e8b883bce0\",                        [{\"name\":\"Attandance\",\"orientation\":\"h\",\"x\":[17228,84336,8332,41587,4143,4684,10972,2643,30148,14641,0,2711,86876,12388,5544,5249,3229,30012,23612,40053,8718,18503,9847,8831,2850,12710,3491,17557,22713,4048,10022,39951,11963,10192,3466,4901,10347,9203,30076,12044,1221,9891,27259,51552,35516,30268,41279,42330,93013],\"y\":[\"NZ vs SL\",\"AUS vs ENG\",\"SA vs ZIM\",\"IND vs PAK\",\"WI vs IRE\",\"SCOT vs NZ\",\"BAN vs AFG\",\"UAE vs ZIM\",\"ENG vs NZ\",\"WI vs PAK\",\"AUS vs BAN\",\"AFG vs SL\",\"IND vs SA\",\"ENG vs SCOT\",\"WI vs ZIM\",\"UAE vs IRE\",\"SCOT vs AFG\",\"SL vs BAN\",\"SA vs WI\",\"AUS vs NZ\",\"UAE vs IND\",\"ENG vs SL\",\"PAK vs ZIM\",\"SA vs IRE\",\"PAK vs UAE\",\"AUS vs AFG\",\"SCOT vs BAN\",\"WI vs IND\",\"PAK vs SA\",\"IRE vs ZIM\",\"AFG vs NZ\",\"AUS vs SL\",\"BAN vs ENG\",\"IRE vs IND\",\"SL vs SCOT\",\"SA vs UAE\",\"BAN vs NZ\",\"AFG vs ENG\",\"ZIM vs IND\",\"SCOT vs AUS\",\"UAE vs WI\",\"IRE vs PAK\",\"SL vs SA\",\"IND vs BAN\",\"PAK vs AUS\",\"NZ vs WI\",\"SA vs NZ\",\"AUS vs IND\",\"NZ vs AUS\"],\"type\":\"bar\"},{\"name\":\"capacity\",\"orientation\":\"h\",\"x\":[20000,100000,12000,53500,5000,6000,13550,5000,37000,20000,42000,6000,100000,20000,13550,42000,6000,100000,82000,50000,24500,37000,42000,13550,22500,24500,5000,24500,50000,20000,22500,82000,53500,12000,20000,37000,12000,82000,50000,20000,22500,53500,82000,100000,53500,37000,50000,82000,100000],\"y\":[\"NZ vs SL\",\"AUS vs ENG\",\"SA vs ZIM\",\"IND vs PAK\",\"WI vs IRE\",\"SCOT vs NZ\",\"BAN vs AFG\",\"UAE vs ZIM\",\"ENG vs NZ\",\"WI vs PAK\",\"AUS vs BAN\",\"AFG vs SL\",\"IND vs SA\",\"ENG vs SCOT\",\"WI vs ZIM\",\"UAE vs IRE\",\"SCOT vs AFG\",\"SL vs BAN\",\"SA vs WI\",\"AUS vs NZ\",\"UAE vs IND\",\"ENG vs SL\",\"PAK vs ZIM\",\"SA vs IRE\",\"PAK vs UAE\",\"AUS vs AFG\",\"SCOT vs BAN\",\"WI vs IND\",\"PAK vs SA\",\"IRE vs ZIM\",\"AFG vs NZ\",\"AUS vs SL\",\"BAN vs ENG\",\"IRE vs IND\",\"SL vs SCOT\",\"SA vs UAE\",\"BAN vs NZ\",\"AFG vs ENG\",\"ZIM vs IND\",\"SCOT vs AUS\",\"UAE vs WI\",\"IRE vs PAK\",\"SL vs SA\",\"IND vs BAN\",\"PAK vs AUS\",\"NZ vs WI\",\"SA vs NZ\",\"AUS vs IND\",\"NZ vs AUS\"],\"type\":\"bar\"}],                        {\"template\":{\"data\":{\"histogram2dcontour\":[{\"type\":\"histogram2dcontour\",\"colorbar\":{\"outlinewidth\":0,\"ticks\":\"\"},\"colorscale\":[[0.0,\"#0d0887\"],[0.1111111111111111,\"#46039f\"],[0.2222222222222222,\"#7201a8\"],[0.3333333333333333,\"#9c179e\"],[0.4444444444444444,\"#bd3786\"],[0.5555555555555556,\"#d8576b\"],[0.6666666666666666,\"#ed7953\"],[0.7777777777777778,\"#fb9f3a\"],[0.8888888888888888,\"#fdca26\"],[1.0,\"#f0f921\"]]}],\"choropleth\":[{\"type\":\"choropleth\",\"colorbar\":{\"outlinewidth\":0,\"ticks\":\"\"}}],\"histogram2d\":[{\"type\":\"histogram2d\",\"colorbar\":{\"outlinewidth\":0,\"ticks\":\"\"},\"colorscale\":[[0.0,\"#0d0887\"],[0.1111111111111111,\"#46039f\"],[0.2222222222222222,\"#7201a8\"],[0.3333333333333333,\"#9c179e\"],[0.4444444444444444,\"#bd3786\"],[0.5555555555555556,\"#d8576b\"],[0.6666666666666666,\"#ed7953\"],[0.7777777777777778,\"#fb9f3a\"],[0.8888888888888888,\"#fdca26\"],[1.0,\"#f0f921\"]]}],\"heatmap\":[{\"type\":\"heatmap\",\"colorbar\":{\"outlinewidth\":0,\"ticks\":\"\"},\"colorscale\":[[0.0,\"#0d0887\"],[0.1111111111111111,\"#46039f\"],[0.2222222222222222,\"#7201a8\"],[0.3333333333333333,\"#9c179e\"],[0.4444444444444444,\"#bd3786\"],[0.5555555555555556,\"#d8576b\"],[0.6666666666666666,\"#ed7953\"],[0.7777777777777778,\"#fb9f3a\"],[0.8888888888888888,\"#fdca26\"],[1.0,\"#f0f921\"]]}],\"heatmapgl\":[{\"type\":\"heatmapgl\",\"colorbar\":{\"outlinewidth\":0,\"ticks\":\"\"},\"colorscale\":[[0.0,\"#0d0887\"],[0.1111111111111111,\"#46039f\"],[0.2222222222222222,\"#7201a8\"],[0.3333333333333333,\"#9c179e\"],[0.4444444444444444,\"#bd3786\"],[0.5555555555555556,\"#d8576b\"],[0.6666666666666666,\"#ed7953\"],[0.7777777777777778,\"#fb9f3a\"],[0.8888888888888888,\"#fdca26\"],[1.0,\"#f0f921\"]]}],\"contourcarpet\":[{\"type\":\"contourcarpet\",\"colorbar\":{\"outlinewidth\":0,\"ticks\":\"\"}}],\"contour\":[{\"type\":\"contour\",\"colorbar\":{\"outlinewidth\":0,\"ticks\":\"\"},\"colorscale\":[[0.0,\"#0d0887\"],[0.1111111111111111,\"#46039f\"],[0.2222222222222222,\"#7201a8\"],[0.3333333333333333,\"#9c179e\"],[0.4444444444444444,\"#bd3786\"],[0.5555555555555556,\"#d8576b\"],[0.6666666666666666,\"#ed7953\"],[0.7777777777777778,\"#fb9f3a\"],[0.8888888888888888,\"#fdca26\"],[1.0,\"#f0f921\"]]}],\"surface\":[{\"type\":\"surface\",\"colorbar\":{\"outlinewidth\":0,\"ticks\":\"\"},\"colorscale\":[[0.0,\"#0d0887\"],[0.1111111111111111,\"#46039f\"],[0.2222222222222222,\"#7201a8\"],[0.3333333333333333,\"#9c179e\"],[0.4444444444444444,\"#bd3786\"],[0.5555555555555556,\"#d8576b\"],[0.6666666666666666,\"#ed7953\"],[0.7777777777777778,\"#fb9f3a\"],[0.8888888888888888,\"#fdca26\"],[1.0,\"#f0f921\"]]}],\"mesh3d\":[{\"type\":\"mesh3d\",\"colorbar\":{\"outlinewidth\":0,\"ticks\":\"\"}}],\"scatter\":[{\"fillpattern\":{\"fillmode\":\"overlay\",\"size\":10,\"solidity\":0.2},\"type\":\"scatter\"}],\"parcoords\":[{\"type\":\"parcoords\",\"line\":{\"colorbar\":{\"outlinewidth\":0,\"ticks\":\"\"}}}],\"scatterpolargl\":[{\"type\":\"scatterpolargl\",\"marker\":{\"colorbar\":{\"outlinewidth\":0,\"ticks\":\"\"}}}],\"bar\":[{\"error_x\":{\"color\":\"#2a3f5f\"},\"error_y\":{\"color\":\"#2a3f5f\"},\"marker\":{\"line\":{\"color\":\"#E5ECF6\",\"width\":0.5},\"pattern\":{\"fillmode\":\"overlay\",\"size\":10,\"solidity\":0.2}},\"type\":\"bar\"}],\"scattergeo\":[{\"type\":\"scattergeo\",\"marker\":{\"colorbar\":{\"outlinewidth\":0,\"ticks\":\"\"}}}],\"scatterpolar\":[{\"type\":\"scatterpolar\",\"marker\":{\"colorbar\":{\"outlinewidth\":0,\"ticks\":\"\"}}}],\"histogram\":[{\"marker\":{\"pattern\":{\"fillmode\":\"overlay\",\"size\":10,\"solidity\":0.2}},\"type\":\"histogram\"}],\"scattergl\":[{\"type\":\"scattergl\",\"marker\":{\"colorbar\":{\"outlinewidth\":0,\"ticks\":\"\"}}}],\"scatter3d\":[{\"type\":\"scatter3d\",\"line\":{\"colorbar\":{\"outlinewidth\":0,\"ticks\":\"\"}},\"marker\":{\"colorbar\":{\"outlinewidth\":0,\"ticks\":\"\"}}}],\"scattermapbox\":[{\"type\":\"scattermapbox\",\"marker\":{\"colorbar\":{\"outlinewidth\":0,\"ticks\":\"\"}}}],\"scatterternary\":[{\"type\":\"scatterternary\",\"marker\":{\"colorbar\":{\"outlinewidth\":0,\"ticks\":\"\"}}}],\"scattercarpet\":[{\"type\":\"scattercarpet\",\"marker\":{\"colorbar\":{\"outlinewidth\":0,\"ticks\":\"\"}}}],\"carpet\":[{\"aaxis\":{\"endlinecolor\":\"#2a3f5f\",\"gridcolor\":\"white\",\"linecolor\":\"white\",\"minorgridcolor\":\"white\",\"startlinecolor\":\"#2a3f5f\"},\"baxis\":{\"endlinecolor\":\"#2a3f5f\",\"gridcolor\":\"white\",\"linecolor\":\"white\",\"minorgridcolor\":\"white\",\"startlinecolor\":\"#2a3f5f\"},\"type\":\"carpet\"}],\"table\":[{\"cells\":{\"fill\":{\"color\":\"#EBF0F8\"},\"line\":{\"color\":\"white\"}},\"header\":{\"fill\":{\"color\":\"#C8D4E3\"},\"line\":{\"color\":\"white\"}},\"type\":\"table\"}],\"barpolar\":[{\"marker\":{\"line\":{\"color\":\"#E5ECF6\",\"width\":0.5},\"pattern\":{\"fillmode\":\"overlay\",\"size\":10,\"solidity\":0.2}},\"type\":\"barpolar\"}],\"pie\":[{\"automargin\":true,\"type\":\"pie\"}]},\"layout\":{\"autotypenumbers\":\"strict\",\"colorway\":[\"#636efa\",\"#EF553B\",\"#00cc96\",\"#ab63fa\",\"#FFA15A\",\"#19d3f3\",\"#FF6692\",\"#B6E880\",\"#FF97FF\",\"#FECB52\"],\"font\":{\"color\":\"#2a3f5f\"},\"hovermode\":\"closest\",\"hoverlabel\":{\"align\":\"left\"},\"paper_bgcolor\":\"white\",\"plot_bgcolor\":\"#E5ECF6\",\"polar\":{\"bgcolor\":\"#E5ECF6\",\"angularaxis\":{\"gridcolor\":\"white\",\"linecolor\":\"white\",\"ticks\":\"\"},\"radialaxis\":{\"gridcolor\":\"white\",\"linecolor\":\"white\",\"ticks\":\"\"}},\"ternary\":{\"bgcolor\":\"#E5ECF6\",\"aaxis\":{\"gridcolor\":\"white\",\"linecolor\":\"white\",\"ticks\":\"\"},\"baxis\":{\"gridcolor\":\"white\",\"linecolor\":\"white\",\"ticks\":\"\"},\"caxis\":{\"gridcolor\":\"white\",\"linecolor\":\"white\",\"ticks\":\"\"}},\"coloraxis\":{\"colorbar\":{\"outlinewidth\":0,\"ticks\":\"\"}},\"colorscale\":{\"sequential\":[[0.0,\"#0d0887\"],[0.1111111111111111,\"#46039f\"],[0.2222222222222222,\"#7201a8\"],[0.3333333333333333,\"#9c179e\"],[0.4444444444444444,\"#bd3786\"],[0.5555555555555556,\"#d8576b\"],[0.6666666666666666,\"#ed7953\"],[0.7777777777777778,\"#fb9f3a\"],[0.8888888888888888,\"#fdca26\"],[1.0,\"#f0f921\"]],\"sequentialminus\":[[0.0,\"#0d0887\"],[0.1111111111111111,\"#46039f\"],[0.2222222222222222,\"#7201a8\"],[0.3333333333333333,\"#9c179e\"],[0.4444444444444444,\"#bd3786\"],[0.5555555555555556,\"#d8576b\"],[0.6666666666666666,\"#ed7953\"],[0.7777777777777778,\"#fb9f3a\"],[0.8888888888888888,\"#fdca26\"],[1.0,\"#f0f921\"]],\"diverging\":[[0,\"#8e0152\"],[0.1,\"#c51b7d\"],[0.2,\"#de77ae\"],[0.3,\"#f1b6da\"],[0.4,\"#fde0ef\"],[0.5,\"#f7f7f7\"],[0.6,\"#e6f5d0\"],[0.7,\"#b8e186\"],[0.8,\"#7fbc41\"],[0.9,\"#4d9221\"],[1,\"#276419\"]]},\"xaxis\":{\"gridcolor\":\"white\",\"linecolor\":\"white\",\"ticks\":\"\",\"title\":{\"standoff\":15},\"zerolinecolor\":\"white\",\"automargin\":true,\"zerolinewidth\":2},\"yaxis\":{\"gridcolor\":\"white\",\"linecolor\":\"white\",\"ticks\":\"\",\"title\":{\"standoff\":15},\"zerolinecolor\":\"white\",\"automargin\":true,\"zerolinewidth\":2},\"scene\":{\"xaxis\":{\"backgroundcolor\":\"#E5ECF6\",\"gridcolor\":\"white\",\"linecolor\":\"white\",\"showbackground\":true,\"ticks\":\"\",\"zerolinecolor\":\"white\",\"gridwidth\":2},\"yaxis\":{\"backgroundcolor\":\"#E5ECF6\",\"gridcolor\":\"white\",\"linecolor\":\"white\",\"showbackground\":true,\"ticks\":\"\",\"zerolinecolor\":\"white\",\"gridwidth\":2},\"zaxis\":{\"backgroundcolor\":\"#E5ECF6\",\"gridcolor\":\"white\",\"linecolor\":\"white\",\"showbackground\":true,\"ticks\":\"\",\"zerolinecolor\":\"white\",\"gridwidth\":2}},\"shapedefaults\":{\"line\":{\"color\":\"#2a3f5f\"}},\"annotationdefaults\":{\"arrowcolor\":\"#2a3f5f\",\"arrowhead\":0,\"arrowwidth\":1},\"geo\":{\"bgcolor\":\"white\",\"landcolor\":\"#E5ECF6\",\"subunitcolor\":\"white\",\"showland\":true,\"showlakes\":true,\"lakecolor\":\"white\"},\"title\":{\"x\":0.05},\"mapbox\":{\"style\":\"light\"}}},\"barmode\":\"stack\",\"height\":1200},                        {\"responsive\": true}                    ).then(function(){\n",
       "                            \n",
       "var gd = document.getElementById('17966b0f-9315-42c8-b9ba-50e8b883bce0');\n",
       "var x = new MutationObserver(function (mutations, observer) {{\n",
       "        var display = window.getComputedStyle(gd).display;\n",
       "        if (!display || display === 'none') {{\n",
       "            console.log([gd, 'removed!']);\n",
       "            Plotly.purge(gd);\n",
       "            observer.disconnect();\n",
       "        }}\n",
       "}});\n",
       "\n",
       "// Listen for the removal of the full notebook cells\n",
       "var notebookContainer = gd.closest('#notebook-container');\n",
       "if (notebookContainer) {{\n",
       "    x.observe(notebookContainer, {childList: true});\n",
       "}}\n",
       "\n",
       "// Listen for the clearing of the current output cell\n",
       "var outputEl = gd.closest('.output');\n",
       "if (outputEl) {{\n",
       "    x.observe(outputEl, {childList: true});\n",
       "}}\n",
       "\n",
       "                        })                };                });            </script>        </div>"
      ]
     },
     "metadata": {},
     "output_type": "display_data"
    }
   ],
   "source": [
    "fig = go.Figure(data = [\n",
    "    go.Bar(name = \"Attandance\", x = data['Attandance'], y = data['Match'], orientation='h'),\n",
    "    go.Bar(name = \"capacity\", x= data['capacity'], y = data['Match'], orientation='h')\n",
    "])\n",
    "\n",
    "fig.update_layout(barmode = 'stack',\n",
    "                 height = 1200)\n",
    "fig.show()"
   ]
  },
  {
   "cell_type": "code",
   "execution_count": null,
   "id": "35275994",
   "metadata": {},
   "outputs": [],
   "source": []
  }
 ],
 "metadata": {
  "kernelspec": {
   "display_name": "Python 3 (ipykernel)",
   "language": "python",
   "name": "python3"
  },
  "language_info": {
   "codemirror_mode": {
    "name": "ipython",
    "version": 3
   },
   "file_extension": ".py",
   "mimetype": "text/x-python",
   "name": "python",
   "nbconvert_exporter": "python",
   "pygments_lexer": "ipython3",
   "version": "3.10.9"
  }
 },
 "nbformat": 4,
 "nbformat_minor": 5
}
